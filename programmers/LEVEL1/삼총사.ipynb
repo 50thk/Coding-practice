{
 "cells": [
  {
   "cell_type": "markdown",
   "metadata": {},
   "source": [
    "![image](https://user-images.githubusercontent.com/88871309/203184875-9725ce04-86da-4f46-9d6b-96467496e3fb.png)"
   ]
  },
  {
   "cell_type": "code",
   "execution_count": 1,
   "metadata": {},
   "outputs": [],
   "source": [
    "def solution(number):\n",
    "    answer = 0\n",
    "    for i in range(len(number)-2):\n",
    "        for j in range(i+1, len(number)-1):\n",
    "            for k in range(j+1, len(number)):\n",
    "                if number[i]+number[j]+number[k] == 0:\n",
    "                    answer += 1\n",
    "    return answer"
   ]
  },
  {
   "cell_type": "code",
   "execution_count": 2,
   "metadata": {},
   "outputs": [
    {
     "data": {
      "text/plain": [
       "5"
      ]
     },
     "execution_count": 2,
     "metadata": {},
     "output_type": "execute_result"
    }
   ],
   "source": [
    "number = [-3, -2, -1, 0, 1, 2, 3]\n",
    "solution(number)"
   ]
  }
 ],
 "metadata": {
  "kernelspec": {
   "display_name": "Python 3.10.5 64-bit",
   "language": "python",
   "name": "python3"
  },
  "language_info": {
   "codemirror_mode": {
    "name": "ipython",
    "version": 3
   },
   "file_extension": ".py",
   "mimetype": "text/x-python",
   "name": "python",
   "nbconvert_exporter": "python",
   "pygments_lexer": "ipython3",
   "version": "3.10.5"
  },
  "orig_nbformat": 4,
  "vscode": {
   "interpreter": {
    "hash": "46f5caaf0ca3c9143f3b7a44f7cf6dbe83d7ed2cfc9d613b8974bb1d310f1c60"
   }
  }
 },
 "nbformat": 4,
 "nbformat_minor": 2
}
