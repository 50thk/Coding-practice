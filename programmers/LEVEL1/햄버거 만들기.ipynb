{
 "cells": [
  {
   "cell_type": "markdown",
   "metadata": {},
   "source": [
    "![image](https://user-images.githubusercontent.com/88871309/200829385-e99f0a16-5565-4ae4-bfe9-e6854e89fa36.png)"
   ]
  },
  {
   "cell_type": "code",
   "execution_count": 1,
   "metadata": {},
   "outputs": [],
   "source": [
    "def solution(ingredient):\n",
    "    answer = 0\n",
    "    seq = []\n",
    "    for i in ingredient:\n",
    "        seq.append(i)\n",
    "        if len(seq) >= 4 and seq[-4:] == [1,2,3,1]:\n",
    "            seq.pop()\n",
    "            seq.pop()\n",
    "            seq.pop()\n",
    "            seq.pop()\n",
    "            answer += 1\n",
    "    return answer"
   ]
  },
  {
   "cell_type": "code",
   "execution_count": 2,
   "metadata": {},
   "outputs": [
    {
     "data": {
      "text/plain": [
       "2"
      ]
     },
     "execution_count": 2,
     "metadata": {},
     "output_type": "execute_result"
    }
   ],
   "source": [
    "ingredient = [2,1,1,2,3,1,2,3,1]\n",
    "solution(ingredient)"
   ]
  }
 ],
 "metadata": {
  "kernelspec": {
   "display_name": "Python 3.10.5 64-bit",
   "language": "python",
   "name": "python3"
  },
  "language_info": {
   "codemirror_mode": {
    "name": "ipython",
    "version": 3
   },
   "file_extension": ".py",
   "mimetype": "text/x-python",
   "name": "python",
   "nbconvert_exporter": "python",
   "pygments_lexer": "ipython3",
   "version": "3.10.5"
  },
  "orig_nbformat": 4,
  "vscode": {
   "interpreter": {
    "hash": "46f5caaf0ca3c9143f3b7a44f7cf6dbe83d7ed2cfc9d613b8974bb1d310f1c60"
   }
  }
 },
 "nbformat": 4,
 "nbformat_minor": 2
}
