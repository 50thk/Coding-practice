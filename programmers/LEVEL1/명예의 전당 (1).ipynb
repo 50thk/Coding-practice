{
 "cells": [
  {
   "cell_type": "markdown",
   "metadata": {},
   "source": [
    "![image](https://user-images.githubusercontent.com/88871309/204777314-fed11e25-deea-4138-9262-3654952225f3.png)"
   ]
  },
  {
   "cell_type": "code",
   "execution_count": 1,
   "metadata": {},
   "outputs": [],
   "source": [
    "import heapq\n",
    "# 첫 풀이 - heapq 모듈을 이용\n",
    "def solution1(k, score):\n",
    "    answer = []\n",
    "    rank = []\n",
    "    for i in score:\n",
    "        heapq.heappush(rank, i)\n",
    "        if len(rank) > k:\n",
    "            heapq.heappop(rank)\n",
    "        answer.append(rank[0])\n",
    "    return answer\n",
    "\n",
    "# 두 번째 풀이 - heapq 모듈과의 시간차이 확인을 위함\n",
    "# heapq 모듈은 push, pop 모두 O(logN)의 시간복잡도를 가지지만, min, remove 함수는 O(N)의 시간복잡도를 가지기 때문에 k 값이 커질 수록 solution1 보다 시간이 소요 폭이 더 커진다.\n",
    "def solution2(k, score):\n",
    "    answer = []\n",
    "    rank = []\n",
    "    for i in score:\n",
    "        rank.append(i)\n",
    "        if len(rank) > k:\n",
    "            rank.remove(min(rank))\n",
    "        answer.append(min(rank))\n",
    "    return answer"
   ]
  },
  {
   "cell_type": "code",
   "execution_count": 3,
   "metadata": {},
   "outputs": [
    {
     "data": {
      "text/plain": [
       "([0, 0, 0, 0, 20, 40, 70, 70, 150, 300],\n",
       " [0, 0, 0, 0, 20, 40, 70, 70, 150, 300])"
      ]
     },
     "execution_count": 3,
     "metadata": {},
     "output_type": "execute_result"
    }
   ],
   "source": [
    "k = 4\n",
    "score = [0, 300, 40, 300, 20, 70, 150, 50, 500, 1000]\n",
    "solution1(k, score), solution2(k, score)"
   ]
  }
 ],
 "metadata": {
  "kernelspec": {
   "display_name": "Python 3.7.10 ('base')",
   "language": "python",
   "name": "python3"
  },
  "language_info": {
   "codemirror_mode": {
    "name": "ipython",
    "version": 3
   },
   "file_extension": ".py",
   "mimetype": "text/x-python",
   "name": "python",
   "nbconvert_exporter": "python",
   "pygments_lexer": "ipython3",
   "version": "3.7.10"
  },
  "orig_nbformat": 4,
  "vscode": {
   "interpreter": {
    "hash": "5179d32cf6ec497baf3f8a3ef987cc77c5d2dc691fdde20a56316522f61a7323"
   }
  }
 },
 "nbformat": 4,
 "nbformat_minor": 2
}
