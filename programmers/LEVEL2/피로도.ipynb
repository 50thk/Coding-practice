{
 "cells": [
  {
   "cell_type": "markdown",
   "metadata": {},
   "source": [
    "![image](https://user-images.githubusercontent.com/88871309/186824511-3d568584-c5ca-450f-aaed-2ccf2d688e46.png)\n"
   ]
  },
  {
   "cell_type": "code",
   "execution_count": 2,
   "metadata": {},
   "outputs": [],
   "source": [
    "'''\n",
    "완전탐색문제\n",
    "solution1 - 순열을 이용해 모든 경우의 수를 구하고, 경우의 수를 모두 탐색하며 answer의 값을 지속해서 큰 값으로 갱신 - 나의 풀이\n",
    "solution2 - dfs로 풀이한 다른 사람의 풀이가 감명깊어 가지고 옴.\n",
    "사전에 visited를 [0]*N으로 정의하고 dfs로 재귀하고 난 후 visited를 0으로 바꿔주어 모든 경우의 수를 탐색할 수 있게끔 만드는 것을 배움.\n",
    "'''\n",
    "from itertools import permutations\n",
    "def solution1(k, dungeons):\n",
    "    seq_list = list(permutations(list(range(len(dungeons))), len(dungeons)))\n",
    "    answer = 0\n",
    "    for seq in seq_list:\n",
    "        temp = 0\n",
    "        presentK = k\n",
    "        for s in seq:\n",
    "            if presentK >= dungeons[s][0]:\n",
    "                temp += 1\n",
    "                presentK -= dungeons[s][1]\n",
    "        if temp > answer:\n",
    "            answer = temp\n",
    "    return answer"
   ]
  },
  {
   "cell_type": "code",
   "execution_count": 4,
   "metadata": {},
   "outputs": [],
   "source": [
    "answer = 0\n",
    "N = 0\n",
    "visited = []\n",
    "\n",
    "\n",
    "def dfs(k, cnt, dungeons):\n",
    "    global answer\n",
    "    if cnt > answer:\n",
    "        answer = cnt\n",
    "\n",
    "    for j in range(N):\n",
    "        if k >= dungeons[j][0] and not visited[j]:\n",
    "            visited[j] = 1\n",
    "            dfs(k - dungeons[j][1], cnt + 1, dungeons)\n",
    "            visited[j] = 0\n",
    "\n",
    "\n",
    "def solution2(k, dungeons):\n",
    "    global N, visited\n",
    "    N = len(dungeons)\n",
    "    visited = [0] * N\n",
    "    dfs(k, 0, dungeons)\n",
    "    return answer"
   ]
  },
  {
   "cell_type": "code",
   "execution_count": 5,
   "metadata": {},
   "outputs": [
    {
     "data": {
      "text/plain": [
       "(3, 3)"
      ]
     },
     "execution_count": 5,
     "metadata": {},
     "output_type": "execute_result"
    }
   ],
   "source": [
    "dungeons = [[80,20],[50,40],[30,10]]\n",
    "k = 80\n",
    "solution1(k, dungeons), solution2(k, dungeons)"
   ]
  }
 ],
 "metadata": {
  "kernelspec": {
   "display_name": "Python 3.10.5 64-bit",
   "language": "python",
   "name": "python3"
  },
  "language_info": {
   "codemirror_mode": {
    "name": "ipython",
    "version": 3
   },
   "file_extension": ".py",
   "mimetype": "text/x-python",
   "name": "python",
   "nbconvert_exporter": "python",
   "pygments_lexer": "ipython3",
   "version": "3.10.5"
  },
  "orig_nbformat": 4,
  "vscode": {
   "interpreter": {
    "hash": "46f5caaf0ca3c9143f3b7a44f7cf6dbe83d7ed2cfc9d613b8974bb1d310f1c60"
   }
  }
 },
 "nbformat": 4,
 "nbformat_minor": 2
}
