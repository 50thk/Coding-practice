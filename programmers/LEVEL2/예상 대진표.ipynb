{
 "cells": [
  {
   "cell_type": "code",
   "execution_count": 1,
   "metadata": {},
   "outputs": [],
   "source": [
    "'''\n",
    "예상 대진표\n",
    "76.5점으로 나머지 문제 시간초과 발생\n",
    "pop의 난발로..\n",
    "문제를 다시 해석해보자.\n",
    "A, B의 위치조정만 시켜주면서 A와 B의 INDEX 크기 대소를 확인해 1차이가 나고 홀수가 짝수보다 작을 때 A,B가 대결하게 되는 것\n",
    "'''\n",
    "\n",
    "def solution(n,a,b):\n",
    "    participant = [0] * n\n",
    "    participant[a-1], participant[b-1] = 'A', 'B'\n",
    "    Round = 0\n",
    "    stop = True\n",
    "    AB = ['A','B']\n",
    "    while stop:\n",
    "        Round += 1\n",
    "        for i in range(len(participant)-1,-1,-2):\n",
    "            if participant[i] in AB and participant[i-1] in AB:\n",
    "                stop = False\n",
    "                break\n",
    "            elif participant[i] in AB:\n",
    "                participant.pop(i-1)\n",
    "            elif participant[i-1] in AB:\n",
    "                participant.pop(i)\n",
    "            else:\n",
    "                participant.pop(i)\n",
    "    return Round\n",
    "\n",
    "'''\n",
    "100점\n",
    "n = 2의 k제곱\n",
    "for문이 한번 돌아갈 때 마다 Round는 1씩 증가\n",
    "a가 홀수이고 a+1이 b와 같을때 혹은 b가 홀수이고 b+1이 a와 같을 때 A와 B가 대결하므로 for문 중지\n",
    "a+1의 몫을 a로 (3번 참가자가 4번 참가자에게 이겼을 때 다음 라운드에 2번 참가자로, 4번 참가자도 +1을 해주어도 5//2는 2기 때문에 이겼을 때 다음 라운드에 2번 참가자로)\n",
    "b도 똑같이 해주어 대결할 때의 Round를 구함\n",
    "'''\n",
    "def solution2(n,a,b):\n",
    "    k = [i for i in range(1,21) if n == 2**i][0]\n",
    "    Round = 0\n",
    "    for i in range(k):\n",
    "        Round += 1\n",
    "        if (a%2 and a+1 == b) or (b%2 and b+1 == a):\n",
    "            break\n",
    "        a = (a+1)//2\n",
    "        b = (b+1)//2\n",
    "    return Round\n",
    "\n",
    "def solution3(n,a,b):\n",
    "    k = [i for i in range(1,21) if n == 2**i][0] \n",
    "    Round = 1\n",
    "    for i in range(k): # for문 대신 while로 a == b 될 때까지 돌리는 방법 또한 있음.\n",
    "        if (a+1)//2 == (b+1)//2:\n",
    "            break\n",
    "        Round += 1\n",
    "        a = (a+1)//2\n",
    "        b = (b+1)//2\n",
    "    return Round\n",
    "\n",
    "def solution4(n,a,b):\n",
    "    Round = 0\n",
    "    while a != b:\n",
    "        Round += 1\n",
    "        a = (a+1)//2\n",
    "        b = (b+1)//2\n",
    "    return Round"
   ]
  },
  {
   "cell_type": "code",
   "execution_count": 2,
   "metadata": {},
   "outputs": [
    {
     "data": {
      "text/plain": [
       "(3, 3, 3, 3)"
      ]
     },
     "execution_count": 2,
     "metadata": {},
     "output_type": "execute_result"
    }
   ],
   "source": [
    "n,a,b = 8,4,7\n",
    "\n",
    "solution(n,a,b), solution2(n,a,b), solution3(n,a,b), solution4(n,a,b)"
   ]
  }
 ],
 "metadata": {
  "kernelspec": {
   "display_name": "Python 3.10.5 64-bit",
   "language": "python",
   "name": "python3"
  },
  "language_info": {
   "codemirror_mode": {
    "name": "ipython",
    "version": 3
   },
   "file_extension": ".py",
   "mimetype": "text/x-python",
   "name": "python",
   "nbconvert_exporter": "python",
   "pygments_lexer": "ipython3",
   "version": "3.10.5"
  },
  "orig_nbformat": 4,
  "vscode": {
   "interpreter": {
    "hash": "46f5caaf0ca3c9143f3b7a44f7cf6dbe83d7ed2cfc9d613b8974bb1d310f1c60"
   }
  }
 },
 "nbformat": 4,
 "nbformat_minor": 2
}
