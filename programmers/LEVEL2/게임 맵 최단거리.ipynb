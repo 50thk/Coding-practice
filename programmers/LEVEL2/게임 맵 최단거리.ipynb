{
 "cells": [
  {
   "cell_type": "markdown",
   "metadata": {},
   "source": [
    "![image](https://user-images.githubusercontent.com/88871309/188362713-04d1fe77-73d1-4d14-b161-331da0e70ae9.png)\n",
    "![image](https://user-images.githubusercontent.com/88871309/188362782-9974528e-764f-480f-b28b-e072b45825b1.png)"
   ]
  },
  {
   "cell_type": "code",
   "execution_count": 1,
   "metadata": {},
   "outputs": [],
   "source": [
    "'''\n",
    "bfs, 넓이우선탐색으로 접근\n",
    "시작점은 0,0\n",
    "목적지는 n,m 으로 문제 정의되어있음을 확인 후 풀이!\n",
    "'''\n",
    "\n",
    "from collections import deque\n",
    "\n",
    "def solution(maps):\n",
    "    n, m = len(maps), len(maps[0])\n",
    "    distance = [[0]*m for i in range(n)]\n",
    "    dx = [-1, 1, 0, 0]\n",
    "    dy = [0, 0, -1, 1]\n",
    "\n",
    "    def bfs(n, m):\n",
    "        maps[0][0] = 0\n",
    "        distance[0][0] = 1\n",
    "        queue = deque([[0, 0]])\n",
    "        \n",
    "        while queue:\n",
    "            v = queue.popleft()\n",
    "            distance_n = distance[v[0]][v[1]]\n",
    "            for i in range(4):\n",
    "                x = v[0]+dx[i]\n",
    "                y = v[1]+dy[i]\n",
    "                if x < 0 or x >= n or y < 0 or y >= m or maps[x][y] == 0:\n",
    "                    continue\n",
    "                else:\n",
    "                    queue.append([x, y])\n",
    "                    maps[x][y] = 0\n",
    "                    distance[x][y] = distance_n + 1           \n",
    "        return distance\n",
    "    \n",
    "    answer = bfs(n,m)\n",
    "    \n",
    "    return answer[-1][-1] if answer[-1][-1] else -1"
   ]
  },
  {
   "cell_type": "code",
   "execution_count": 2,
   "metadata": {},
   "outputs": [
    {
     "data": {
      "text/plain": [
       "(11, -1)"
      ]
     },
     "execution_count": 2,
     "metadata": {},
     "output_type": "execute_result"
    }
   ],
   "source": [
    "maps1 = [[1,0,1,1,1],[1,0,1,0,1],[1,0,1,1,1],[1,1,1,0,1],[0,0,0,0,1]]\n",
    "maps2 = [[1,0,1,1,1],[1,0,1,0,1],[1,0,1,1,1],[1,1,1,0,0],[0,0,0,0,1]]\n",
    "solution(maps1), solution(maps2)"
   ]
  }
 ],
 "metadata": {
  "kernelspec": {
   "display_name": "Python 3.10.5 64-bit",
   "language": "python",
   "name": "python3"
  },
  "language_info": {
   "codemirror_mode": {
    "name": "ipython",
    "version": 3
   },
   "file_extension": ".py",
   "mimetype": "text/x-python",
   "name": "python",
   "nbconvert_exporter": "python",
   "pygments_lexer": "ipython3",
   "version": "3.10.5"
  },
  "orig_nbformat": 4,
  "vscode": {
   "interpreter": {
    "hash": "46f5caaf0ca3c9143f3b7a44f7cf6dbe83d7ed2cfc9d613b8974bb1d310f1c60"
   }
  }
 },
 "nbformat": 4,
 "nbformat_minor": 2
}
