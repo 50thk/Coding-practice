{
 "cells": [
  {
   "cell_type": "markdown",
   "metadata": {},
   "source": [
    "![image](https://user-images.githubusercontent.com/88871309/205485571-43f7fad6-43a6-4894-886d-d1c0b06c19cd.png)"
   ]
  },
  {
   "cell_type": "code",
   "execution_count": 1,
   "metadata": {},
   "outputs": [],
   "source": [
    "# 첫 풀이\n",
    "from collections import deque\n",
    "def solution1(order):\n",
    "    answer = 0\n",
    "    order = deque(order)\n",
    "    first_od = order[0]\n",
    "    \n",
    "    while order:\n",
    "        od = order.popleft()\n",
    "        \n",
    "        if od == first_od:\n",
    "            assistBelt = list(range(1, od))\n",
    "            majorBelt = deque(range(od+1, len(order)+2))\n",
    "            answer += 1           \n",
    "        elif majorBelt and od == majorBelt[0]:\n",
    "            majorBelt.popleft()\n",
    "            answer += 1\n",
    "        elif majorBelt and od > majorBelt[0]:\n",
    "            for i in range(0, od-majorBelt[0]):\n",
    "                assistBelt.append(majorBelt.popleft())\n",
    "            majorBelt.popleft()\n",
    "            answer += 1\n",
    "        elif assistBelt and od == assistBelt[-1]:\n",
    "            assistBelt.pop()\n",
    "            answer += 1\n",
    "        elif assistBelt and assistBelt[-1] != od:\n",
    "            break\n",
    "            \n",
    "    return answer\n",
    "\n",
    "# 두 번째 풀이..\n",
    "def solution2(order):\n",
    "    stack = []\n",
    "    i = 1\n",
    "    idx = 0\n",
    "    \n",
    "    while i < len(order)+1:\n",
    "        stack.append(i)\n",
    "        \n",
    "        while stack and stack[-1] == order[idx]:\n",
    "            stack.pop()\n",
    "            idx += 1\n",
    "        \n",
    "        i += 1\n",
    "    return idx"
   ]
  },
  {
   "cell_type": "code",
   "execution_count": 2,
   "metadata": {},
   "outputs": [
    {
     "name": "stdout",
     "output_type": "stream",
     "text": [
      "2 2 5 5\n"
     ]
    }
   ],
   "source": [
    "order1, order2 = [4, 3, 1, 2, 5], [5, 4, 3, 2, 1]\n",
    "print(solution1(order1), solution2(order1), solution1(order2), solution2(order2))"
   ]
  }
 ],
 "metadata": {
  "kernelspec": {
   "display_name": "Python 3.7.10 ('base')",
   "language": "python",
   "name": "python3"
  },
  "language_info": {
   "codemirror_mode": {
    "name": "ipython",
    "version": 3
   },
   "file_extension": ".py",
   "mimetype": "text/x-python",
   "name": "python",
   "nbconvert_exporter": "python",
   "pygments_lexer": "ipython3",
   "version": "3.7.10"
  },
  "orig_nbformat": 4,
  "vscode": {
   "interpreter": {
    "hash": "5179d32cf6ec497baf3f8a3ef987cc77c5d2dc691fdde20a56316522f61a7323"
   }
  }
 },
 "nbformat": 4,
 "nbformat_minor": 2
}
