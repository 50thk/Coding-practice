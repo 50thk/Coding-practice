{
 "cells": [
  {
   "cell_type": "markdown",
   "metadata": {},
   "source": [
    "![image](https://user-images.githubusercontent.com/88871309/194081668-73ab7c9a-5b2d-447b-a2b8-1ad746f171f7.png)"
   ]
  },
  {
   "cell_type": "code",
   "execution_count": 1,
   "metadata": {},
   "outputs": [],
   "source": [
    "from collections import deque\n",
    "def solution(people, limit):\n",
    "    answer = 0\n",
    "    people.sort(reverse=True)\n",
    "    p = deque(people)\n",
    "    weight = 0\n",
    "    while p:\n",
    "        weight += p.popleft()\n",
    "        while p and weight+p[-1] <= limit:\n",
    "            weight += p.pop()\n",
    "        weight = 0\n",
    "        answer += 1\n",
    "    return answer"
   ]
  },
  {
   "cell_type": "code",
   "execution_count": 2,
   "metadata": {},
   "outputs": [
    {
     "data": {
      "text/plain": [
       "3"
      ]
     },
     "execution_count": 2,
     "metadata": {},
     "output_type": "execute_result"
    }
   ],
   "source": [
    "people = [70, 50, 80, 50]\n",
    "limit = 100\n",
    "solution(people, limit)"
   ]
  },
  {
   "cell_type": "code",
   "execution_count": 3,
   "metadata": {},
   "outputs": [],
   "source": [
    "from collections import deque\n",
    "def solution(people, limit):\n",
    "    answer = 0\n",
    "    people.sort(reverse=True)\n",
    "    f = 0\n",
    "    b = len(people)-1\n",
    "    while f <= b:\n",
    "        if people[f] + people[b] <= limit:\n",
    "            b -= 1\n",
    "        f += 1\n",
    "        answer += 1\n",
    "    return answer"
   ]
  },
  {
   "cell_type": "code",
   "execution_count": 4,
   "metadata": {},
   "outputs": [
    {
     "data": {
      "text/plain": [
       "3"
      ]
     },
     "execution_count": 4,
     "metadata": {},
     "output_type": "execute_result"
    }
   ],
   "source": [
    "solution(people, limit)"
   ]
  }
 ],
 "metadata": {
  "kernelspec": {
   "display_name": "Python 3.7.10 ('base')",
   "language": "python",
   "name": "python3"
  },
  "language_info": {
   "codemirror_mode": {
    "name": "ipython",
    "version": 3
   },
   "file_extension": ".py",
   "mimetype": "text/x-python",
   "name": "python",
   "nbconvert_exporter": "python",
   "pygments_lexer": "ipython3",
   "version": "3.7.10"
  },
  "orig_nbformat": 4,
  "vscode": {
   "interpreter": {
    "hash": "5179d32cf6ec497baf3f8a3ef987cc77c5d2dc691fdde20a56316522f61a7323"
   }
  }
 },
 "nbformat": 4,
 "nbformat_minor": 2
}
