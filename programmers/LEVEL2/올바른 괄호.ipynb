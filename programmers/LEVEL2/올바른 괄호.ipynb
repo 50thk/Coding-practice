{
 "cells": [
  {
   "cell_type": "markdown",
   "metadata": {},
   "source": [
    "![image](https://user-images.githubusercontent.com/88871309/185046265-82daa1f0-3c9c-41cd-ae4e-796da6825a89.png)\n"
   ]
  },
  {
   "cell_type": "code",
   "execution_count": 1,
   "metadata": {},
   "outputs": [],
   "source": [
    "def solution(s):\n",
    "    open_bracket = 0\n",
    "    \n",
    "    for i in s:\n",
    "        if i == \"(\":\n",
    "            open_bracket += 1\n",
    "        else:\n",
    "            open_bracket -= 1\n",
    "        if open_bracket < 0:\n",
    "            return False\n",
    "    return open_bracket == 0"
   ]
  },
  {
   "cell_type": "code",
   "execution_count": 2,
   "metadata": {},
   "outputs": [
    {
     "data": {
      "text/plain": [
       "False"
      ]
     },
     "execution_count": 2,
     "metadata": {},
     "output_type": "execute_result"
    }
   ],
   "source": [
    "s = \"(())(\"\n",
    "solution(s)"
   ]
  }
 ],
 "metadata": {
  "kernelspec": {
   "display_name": "Python 3.10.5 64-bit",
   "language": "python",
   "name": "python3"
  },
  "language_info": {
   "codemirror_mode": {
    "name": "ipython",
    "version": 3
   },
   "file_extension": ".py",
   "mimetype": "text/x-python",
   "name": "python",
   "nbconvert_exporter": "python",
   "pygments_lexer": "ipython3",
   "version": "3.10.5"
  },
  "orig_nbformat": 4,
  "vscode": {
   "interpreter": {
    "hash": "46f5caaf0ca3c9143f3b7a44f7cf6dbe83d7ed2cfc9d613b8974bb1d310f1c60"
   }
  }
 },
 "nbformat": 4,
 "nbformat_minor": 2
}
