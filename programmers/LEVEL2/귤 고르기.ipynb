{
 "cells": [
  {
   "cell_type": "markdown",
   "metadata": {},
   "source": [
    "![image](https://user-images.githubusercontent.com/88871309/205017421-e8e6bce6-37e6-46a8-85c4-78067cf56866.png)"
   ]
  },
  {
   "cell_type": "code",
   "execution_count": 1,
   "metadata": {},
   "outputs": [],
   "source": [
    "def solution(k, tangerine):\n",
    "\n",
    "    tanDict = dict()\n",
    "    for i in tangerine:\n",
    "        if not tanDict.get(i):\n",
    "            tanDict[i] = 1\n",
    "        else:\n",
    "            tanDict[i] += 1\n",
    "    value = list(tanDict.values())\n",
    "    value.sort(reverse=True)\n",
    "    \n",
    "    tmp = 0\n",
    "    for idx, v in enumerate(value):\n",
    "        tmp += v\n",
    "        if tmp >= k:\n",
    "            return idx+1"
   ]
  },
  {
   "cell_type": "code",
   "execution_count": 2,
   "metadata": {},
   "outputs": [
    {
     "data": {
      "text/plain": [
       "3"
      ]
     },
     "execution_count": 2,
     "metadata": {},
     "output_type": "execute_result"
    }
   ],
   "source": [
    "tangerine = [1, 3, 2, 5, 4, 5, 2, 3]\n",
    "k = 6\n",
    "solution(k, tangerine)"
   ]
  }
 ],
 "metadata": {
  "kernelspec": {
   "display_name": "Python 3.11.0 64-bit",
   "language": "python",
   "name": "python3"
  },
  "language_info": {
   "codemirror_mode": {
    "name": "ipython",
    "version": 3
   },
   "file_extension": ".py",
   "mimetype": "text/x-python",
   "name": "python",
   "nbconvert_exporter": "python",
   "pygments_lexer": "ipython3",
   "version": "3.11.0"
  },
  "orig_nbformat": 4,
  "vscode": {
   "interpreter": {
    "hash": "42e90af05850de75cce209366f6adb061830c4e13e8450f4b0441a396c4c87f2"
   }
  }
 },
 "nbformat": 4,
 "nbformat_minor": 2
}
