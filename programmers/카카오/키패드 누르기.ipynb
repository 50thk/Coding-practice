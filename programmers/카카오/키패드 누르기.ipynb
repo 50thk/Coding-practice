{
 "cells": [
  {
   "cell_type": "markdown",
   "metadata": {},
   "source": [
    "![image](https://user-images.githubusercontent.com/88871309/185745725-48c91cc1-046e-4112-ad4f-655f892038cf.png)\n"
   ]
  },
  {
   "cell_type": "markdown",
   "metadata": {},
   "source": [
    "![image](https://user-images.githubusercontent.com/88871309/185745761-0f900683-3e9d-4a3c-a2c7-7b8c449be17e.png)"
   ]
  },
  {
   "cell_type": "code",
   "execution_count": 1,
   "metadata": {},
   "outputs": [],
   "source": [
    "'''\n",
    "2020 카카오 인턴십 : 키패드 누르기\n",
    "'''\n",
    "def solution(numbers, hand):\n",
    "    answer = \"\"\n",
    "    dt = [[1,3], [0,0], [1,0], [2,0], [0,1], [1,1], [2,1], [0,2], [1,2], [2,2], [0,3], [2,3]]\n",
    "    lh_s = 10\n",
    "    rh_s = 11\n",
    "    \n",
    "    for i in numbers:\n",
    "        if i in [1,4,7]:\n",
    "            lh_s = i\n",
    "            answer += \"L\"\n",
    "        elif i in [3,6,9]:\n",
    "            rh_s = i\n",
    "            answer += \"R\"\n",
    "        elif i in [2,5,8,0]:\n",
    "            lh_d = abs(dt[lh_s][0]-dt[i][0]) + abs(dt[lh_s][1]-dt[i][1])\n",
    "            rh_d = abs(dt[rh_s][0]-dt[i][0]) + abs(dt[rh_s][1]-dt[i][1])\n",
    "            if lh_d < rh_d:\n",
    "                lh_s = i\n",
    "                answer += \"L\"\n",
    "            elif rh_d < lh_d:\n",
    "                rh_s = i\n",
    "                answer += \"R\"\n",
    "            else:\n",
    "                answer += hand[0].upper()\n",
    "                if hand[0].upper() == \"L\":\n",
    "                    lh_s = i\n",
    "                else:\n",
    "                    rh_s = i\n",
    "    return answer"
   ]
  },
  {
   "cell_type": "code",
   "execution_count": 2,
   "metadata": {},
   "outputs": [
    {
     "data": {
      "text/plain": [
       "'LRLLLRLLRRL'"
      ]
     },
     "execution_count": 2,
     "metadata": {},
     "output_type": "execute_result"
    }
   ],
   "source": [
    "numbers = [1,3,4,5,8,2,1,4,5,9,5]\n",
    "hand = 'right'\n",
    "\n",
    "solution(numbers, hand)"
   ]
  }
 ],
 "metadata": {
  "kernelspec": {
   "display_name": "Python 3.10.5 64-bit",
   "language": "python",
   "name": "python3"
  },
  "language_info": {
   "codemirror_mode": {
    "name": "ipython",
    "version": 3
   },
   "file_extension": ".py",
   "mimetype": "text/x-python",
   "name": "python",
   "nbconvert_exporter": "python",
   "pygments_lexer": "ipython3",
   "version": "3.10.5"
  },
  "orig_nbformat": 4,
  "vscode": {
   "interpreter": {
    "hash": "46f5caaf0ca3c9143f3b7a44f7cf6dbe83d7ed2cfc9d613b8974bb1d310f1c60"
   }
  }
 },
 "nbformat": 4,
 "nbformat_minor": 2
}
