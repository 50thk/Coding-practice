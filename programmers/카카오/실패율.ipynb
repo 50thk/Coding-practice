{
 "cells": [
  {
   "cell_type": "markdown",
   "metadata": {},
   "source": [
    "![image](https://user-images.githubusercontent.com/88871309/190412025-cc47ae5d-c91c-447c-8a65-c8f75e0b5559.png)\n",
    "![image](https://user-images.githubusercontent.com/88871309/190412105-eb9f978c-d962-44dd-92e3-58f87ce1522f.png)"
   ]
  },
  {
   "cell_type": "code",
   "execution_count": null,
   "metadata": {},
   "outputs": [],
   "source": [
    "def solution(N, stages):\n",
    "    answer = []\n",
    "    stages.sort()\n",
    "    ls = len(stages)\n",
    "    fail = []\n",
    "    for i in range(1, N+1):\n",
    "        if ls == 0:\n",
    "            fail.append(0)\n",
    "            continue\n",
    "        sc = stages.count(i)\n",
    "        fail.append(sc/ls)\n",
    "        ls -= sc\n",
    "    fr = sorted(fail, reverse=True)\n",
    "    for f in fr:\n",
    "        i = fail.index(f)\n",
    "        answer.append(i+1)\n",
    "        fail[i] = -1\n",
    "    return answer"
   ]
  },
  {
   "cell_type": "code",
   "execution_count": null,
   "metadata": {},
   "outputs": [],
   "source": [
    "N = 5\n",
    "stages = [2, 1, 2, 6, 2, 4, 3, 3]\n",
    "solution(N, stages)"
   ]
  }
 ],
 "metadata": {
  "kernelspec": {
   "display_name": "Python 3.9.12 64-bit",
   "language": "python",
   "name": "python3"
  },
  "language_info": {
   "name": "python",
   "version": "3.9.12"
  },
  "orig_nbformat": 4,
  "vscode": {
   "interpreter": {
    "hash": "726a8901007ed2dd12f766eb32e8f0de6f192f5f3f3df6c666c7f4cd6a5fd3ce"
   }
  }
 },
 "nbformat": 4,
 "nbformat_minor": 2
}
