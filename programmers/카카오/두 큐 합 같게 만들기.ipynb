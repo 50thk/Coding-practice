{
 "cells": [
  {
   "cell_type": "markdown",
   "metadata": {},
   "source": [
    "![image](https://user-images.githubusercontent.com/88871309/186290077-21618073-1aa2-4890-9a2d-2f28593f237e.png)\n"
   ]
  },
  {
   "cell_type": "code",
   "execution_count": 6,
   "metadata": {},
   "outputs": [],
   "source": [
    "'''\n",
    "2022 카카오 테크 인턴십 : 두 큐 합 같게 만들기\n",
    "첫 번째 solution은 스스로 푼 solution\n",
    "두 번째 solution은 다른 풀이를 참고하여 시간복잡도를 최소화하기 위한 제약을 수정 및 추가\n",
    "'''\n",
    "\n",
    "from collections import deque\n",
    "\n",
    "def solution(queue1, queue2):\n",
    "    queue1 = deque(queue1)\n",
    "    queue2 = deque(queue2)\n",
    "    qs1, qs2 = sum(queue1), sum(queue2)\n",
    "    per_Q = (qs1 + qs2)/2\n",
    "    answer = 0\n",
    "    l = len(queue1)\n",
    "\n",
    "    while qs1 != qs2:\n",
    "        if qs1 > qs2:\n",
    "            v = queue1.popleft()\n",
    "            qs1 -= v\n",
    "            qs2 += v\n",
    "            queue2.append(v)\n",
    "        elif qs1 < qs2:\n",
    "            v = queue2.popleft()\n",
    "            qs1 += v\n",
    "            qs2 -= v\n",
    "            queue1.append(v)\n",
    "        if v > per_Q or answer >= l*3:\n",
    "            return -1\n",
    "        answer += 1\n",
    "\n",
    "    return answer\n",
    "\n",
    "def solution2(queue1, queue2):\n",
    "    queue1 = deque(queue1)\n",
    "    queue2 = deque(queue2)\n",
    "    qs1, qs2 = sum(queue1), sum(queue2)\n",
    "    per_Q, qSum = (qs1 + qs2)/2, (qs1 + qs2)\n",
    "    answer = 0\n",
    "    l = len(queue1)*2+2\n",
    "    \n",
    "    if qSum % 2:\n",
    "        return -1\n",
    "    \n",
    "    while qs1 != qs2:\n",
    "        if qs1 > qs2:\n",
    "            v = queue1.popleft()\n",
    "            qs1 -= v\n",
    "            qs2 += v\n",
    "            queue2.append(v)\n",
    "        elif qs1 < qs2:\n",
    "            v = queue2.popleft()\n",
    "            qs1 += v\n",
    "            qs2 -= v\n",
    "            queue1.append(v)\n",
    "        if v > per_Q or answer >= l:\n",
    "            return -1\n",
    "        answer += 1\n",
    "        \n",
    "    return answer"
   ]
  },
  {
   "cell_type": "code",
   "execution_count": 7,
   "metadata": {},
   "outputs": [
    {
     "data": {
      "text/plain": [
       "(7, 2)"
      ]
     },
     "execution_count": 7,
     "metadata": {},
     "output_type": "execute_result"
    }
   ],
   "source": [
    "'''\n",
    "TEST CASE 1번은 모든 경우를 순환한 후 마지막에 존재하는 듯\n",
    "l의 값을 단순 len(queue)*2로 했을 때 실패해 l*3으로 설정해 풀어냈지만, len(queue)*2+2이 마지막 순환인 듯함.\n",
    "혹은 한 queue의 popleft가 되는 수를 count하여 len(queue)와 비교하여 풀어낼 수도 있음.\n",
    "'''\n",
    "queue1 = [1, 2, 1, 2]\n",
    "queue2 = [1, 10, 1, 2]\n",
    "\n",
    "queue3 = [3, 2, 7, 2]\n",
    "queue4 = [4, 6, 5, 1]\n",
    "\n",
    "solution1(queue1, queue2), solution2(queue3, queue4)"
   ]
  }
 ],
 "metadata": {
  "kernelspec": {
   "display_name": "Python 3.10.5 64-bit",
   "language": "python",
   "name": "python3"
  },
  "language_info": {
   "codemirror_mode": {
    "name": "ipython",
    "version": 3
   },
   "file_extension": ".py",
   "mimetype": "text/x-python",
   "name": "python",
   "nbconvert_exporter": "python",
   "pygments_lexer": "ipython3",
   "version": "3.10.5"
  },
  "orig_nbformat": 4,
  "vscode": {
   "interpreter": {
    "hash": "46f5caaf0ca3c9143f3b7a44f7cf6dbe83d7ed2cfc9d613b8974bb1d310f1c60"
   }
  }
 },
 "nbformat": 4,
 "nbformat_minor": 2
}
