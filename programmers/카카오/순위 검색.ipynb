{
 "cells": [
  {
   "cell_type": "code",
   "execution_count": null,
   "metadata": {},
   "outputs": [],
   "source": [
    "'''\n",
    "최대 query*info*5번 수행에다 int로 변환의 작업의 반복으로 시간이 되게 오래걸림.\n",
    "'''\n",
    "def solution(info, query):\n",
    "    query = list(map(lambda x: x.replace('and ', '').split(' '), query))\n",
    "    info = list(map(lambda x: x.split(' '), info))\n",
    "    \n",
    "    answer = []\n",
    "    for q in query:\n",
    "        temp = 0\n",
    "        for i in info:\n",
    "            t = 0\n",
    "            for j in range(5):\n",
    "                if j != 4 and q[j] == i[j] or q[j] == '-':\n",
    "                    t += 1\n",
    "                elif j == 4 and int(q[j]) <= int(i[j]):\n",
    "                    t += 1\n",
    "                else:\n",
    "                    break\n",
    "                    \n",
    "                if t == 5:\n",
    "                    temp += 1\n",
    "        answer.append(temp)\n",
    "        \n",
    "    return answer"
   ]
  },
  {
   "cell_type": "code",
   "execution_count": null,
   "metadata": {},
   "outputs": [],
   "source": [
    "'''\n",
    "filter 함수를 이용해 각 조건을 탐색\n",
    "filter를 거칠 때마다 탐색하는 규모는 작아져 이전보다 효율은 향상되었으나, 여전히 효율성 불합격\n",
    "'''\n",
    "def solution(info, query):\n",
    "    query = list(map(lambda x: x.replace('and ', '').split(' '), query))\n",
    "    query_s = list(map(lambda x: int(x[4]), query))\n",
    "    info = list(map(lambda x: x.split(' '), info))\n",
    "    info_s = list(map(lambda x: int(x[4]), info))\n",
    "    \n",
    "    for i in range(len(info)):\n",
    "        info[i][4] = info_s[i]\n",
    "        \n",
    "    for i in range(len(query)):\n",
    "        query[i][4] = query_s[i]\n",
    "    \n",
    "    \n",
    "    answer = []\n",
    "    for q in query:\n",
    "        temp = 0\n",
    "        a = info\n",
    "\n",
    "        for i in range(4, -1, -1):\n",
    "            if i != 4:\n",
    "                a = list(filter(lambda x: q[i] == \"-\" or q[i] == x[i], a))\n",
    "            else:\n",
    "                a = list(filter(lambda x: q[i] <= x[i], a))\n",
    "\n",
    "        answer.append(len(a))\n",
    "        \n",
    "    return answer"
   ]
  }
 ],
 "metadata": {
  "language_info": {
   "name": "python"
  },
  "orig_nbformat": 4
 },
 "nbformat": 4,
 "nbformat_minor": 2
}
