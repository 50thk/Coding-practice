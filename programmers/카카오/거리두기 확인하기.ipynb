{
 "cells": [
  {
   "cell_type": "markdown",
   "metadata": {},
   "source": [
    "![image](https://user-images.githubusercontent.com/88871309/184274333-43c5a88a-44a9-4c38-a956-edc158f93a63.png)"
   ]
  },
  {
   "cell_type": "markdown",
   "metadata": {},
   "source": [
    "![image](https://user-images.githubusercontent.com/88871309/184274444-f2d91836-9130-45de-b73b-2341da6f08d0.png)"
   ]
  },
  {
   "cell_type": "code",
   "execution_count": null,
   "metadata": {},
   "outputs": [],
   "source": [
    "'''\n",
    "2021 카카오 채용연계형 인턴십 : 거리두기 확인하기\n",
    "거리가 2이하인 경우에 P가 존재할 경우 0을 반환해야하기 때문에 bfs 넓이 우선 탐색으로 방향을 정함.\n",
    "각 지점에서 상하좌우의 움직임을 표현하기 위해 dx, dy를 정의\n",
    "deque를 이용해 queue 자료구조를 이용\n",
    "'''\n",
    "\n",
    "from collections import deque\n",
    "def bfs(place, x, y):\n",
    "    p = list(map(list, place))\n",
    "    distance = [[0]*5 for i in range(5)]\n",
    "    queue = deque()\n",
    "    dx = [-1, 1, 0, 0]\n",
    "    dy = [0, 0, -1, 1]\n",
    "    queue.append((x, y))\n",
    "    p[x][y] = \"X\"\n",
    "    while queue:\n",
    "        x, y = queue.popleft()\n",
    "        for i in range(4):\n",
    "            px = x + dx[i]\n",
    "            py = y + dy[i]\n",
    "            if px < 0 or px >= 5 or py < 0 or py >= 5:\n",
    "                continue\n",
    "            if p[px][py] == 'X':\n",
    "                continue\n",
    "            if p[px][py] == 'O':\n",
    "                distance[px][py] = distance[x][y] + 1\n",
    "                p[px][py] = 'X'\n",
    "                queue.append((px, py))\n",
    "            elif p[px][py] == 'P':\n",
    "                distance[px][py] = distance[x][y] + 1\n",
    "                if distance[px][py] <= 2:\n",
    "                    return 0\n",
    "    return 1\n",
    "\n",
    "def solution(places):\n",
    "    answer = []\n",
    "    place = list(map(list, places[0]))\n",
    "    for i in range(5):\n",
    "        temp = []\n",
    "        for j in range(5):\n",
    "            for k in range(5):\n",
    "                if places[i][j][k] == \"P\":\n",
    "                    temp.append(bfs(places[i],j,k))\n",
    "        if 0 in temp:\n",
    "            answer.append(0)\n",
    "        else:\n",
    "            answer.append(1)\n",
    "    return answer  "
   ]
  }
 ],
 "metadata": {
  "language_info": {
   "name": "python"
  },
  "orig_nbformat": 4
 },
 "nbformat": 4,
 "nbformat_minor": 2
}
