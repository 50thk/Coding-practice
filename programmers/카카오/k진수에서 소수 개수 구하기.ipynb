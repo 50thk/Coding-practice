{
 "cells": [
  {
   "cell_type": "markdown",
   "metadata": {},
   "source": [
    "![image](https://user-images.githubusercontent.com/88871309/203190768-f3d57e18-40f7-44e9-847f-2bc9e7c31aa6.png)"
   ]
  },
  {
   "cell_type": "code",
   "execution_count": 1,
   "metadata": {},
   "outputs": [],
   "source": [
    "'''\n",
    "문제 해결\n",
    "1. n을 k진수로 변환\n",
    "2. 0이 없는 양수를 차례로 추출\n",
    "3. 소수 판별\n",
    "'''\n",
    "\n",
    "\n",
    "def prime_valid(x):\n",
    "    if x == 1:\n",
    "        return\n",
    "    for i in range(2, int(x**0.5)+1):\n",
    "        if x%i == 0:\n",
    "            return\n",
    "    return x\n",
    "\n",
    "def solution(n, k):\n",
    "    answer = -1\n",
    "    dec = \"\"\n",
    "    while n > 0:\n",
    "        n, rem = n//k, n%k\n",
    "        dec += str(rem)\n",
    "    dec = dec[::-1]\n",
    "\n",
    "    # dec를 split(\"0\")을 해서 소수판별해도 됨... ㅠ.ㅠ \n",
    "    prime = []\n",
    "    p = 0\n",
    "    l = len(dec)\n",
    "    while p != l:\n",
    "        tmp = \"\"\n",
    "        for i in range(p, l):\n",
    "            if dec[i] == \"0\":\n",
    "                p = i+1\n",
    "                break\n",
    "            tmp += dec[i]\n",
    "            if l-1 == i:\n",
    "                p = l\n",
    "        if len(tmp) and prime_valid(int(tmp)):\n",
    "            prime.append(tmp) # answer += 1\n",
    "    return len(prime) # answer"
   ]
  },
  {
   "cell_type": "code",
   "execution_count": 2,
   "metadata": {},
   "outputs": [
    {
     "data": {
      "text/plain": [
       "3"
      ]
     },
     "execution_count": 2,
     "metadata": {},
     "output_type": "execute_result"
    }
   ],
   "source": [
    "n, k = 437674, 3\n",
    "solution(n, k)"
   ]
  }
 ],
 "metadata": {
  "kernelspec": {
   "display_name": "Python 3.10.5 64-bit",
   "language": "python",
   "name": "python3"
  },
  "language_info": {
   "codemirror_mode": {
    "name": "ipython",
    "version": 3
   },
   "file_extension": ".py",
   "mimetype": "text/x-python",
   "name": "python",
   "nbconvert_exporter": "python",
   "pygments_lexer": "ipython3",
   "version": "3.10.5"
  },
  "orig_nbformat": 4,
  "vscode": {
   "interpreter": {
    "hash": "46f5caaf0ca3c9143f3b7a44f7cf6dbe83d7ed2cfc9d613b8974bb1d310f1c60"
   }
  }
 },
 "nbformat": 4,
 "nbformat_minor": 2
}
