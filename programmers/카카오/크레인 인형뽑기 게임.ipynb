{
 "cells": [
  {
   "cell_type": "markdown",
   "metadata": {},
   "source": [
    "![image](https://user-images.githubusercontent.com/88871309/186555893-39d4ebcf-8636-423b-9063-7b02aa241ddf.png)\n",
    "![image](https://user-images.githubusercontent.com/88871309/186555972-a740cfc3-c4ad-4084-83da-6dd7c62f93bf.png)\n",
    "![image](https://grepp-programmers.s3.ap-northeast-2.amazonaws.com/files/production/8569d736-091e-4771-b2d3-7a6e95a20c22/crane_game_103.gif)\n",
    "![image](https://user-images.githubusercontent.com/88871309/186556250-14f5bb4e-fbce-4161-9ace-6eab57e850cb.png)"
   ]
  },
  {
   "cell_type": "code",
   "execution_count": 9,
   "metadata": {},
   "outputs": [],
   "source": [
    "'''\n",
    "2019 카카오 개발자 겨울 인턴십 : 크레인 인형뽑기 게임\n",
    "solution1 = 코딩테스트 연습한지 얼마 안됐을때 코드\n",
    "solution2 = 스스로 개선한 코드\n",
    "'''\n",
    "def solution1(board, moves):\n",
    "    answer = 0\n",
    "    select_dolls = []\n",
    "    for i in moves:\n",
    "        for idx, x in enumerate(board):\n",
    "            if x[i-1] != 0:\n",
    "                sd = x[i-1]\n",
    "                x[i-1] = 0\n",
    "                break\n",
    "            else:\n",
    "                sd = 0\n",
    "        if sd == 0:\n",
    "            continue\n",
    "        if not select_dolls:\n",
    "            select_dolls.append(sd)\n",
    "            continue\n",
    "        if select_dolls[-1] == sd:\n",
    "            select_dolls = select_dolls[:-1]\n",
    "            answer += 2\n",
    "        else:\n",
    "            select_dolls.append(sd)\n",
    "    return answer\n",
    "\n",
    "def solution2(board, moves):\n",
    "    answer = 0\n",
    "    select_dolls = []\n",
    "    for i in moves:\n",
    "        for j in range(len(board)):\n",
    "            temp, board[j][i-1] = board[j][i-1], 0\n",
    "            if temp and not select_dolls:\n",
    "                select_dolls.append(temp)\n",
    "                break\n",
    "            elif temp and select_dolls:\n",
    "                if select_dolls[-1] == temp:\n",
    "                    select_dolls.pop()\n",
    "                    answer += 2\n",
    "                else:\n",
    "                    select_dolls.append(temp)\n",
    "                break\n",
    "                \n",
    "    return answer"
   ]
  },
  {
   "cell_type": "code",
   "execution_count": 10,
   "metadata": {},
   "outputs": [
    {
     "name": "stdout",
     "output_type": "stream",
     "text": [
      "4\n",
      "4\n"
     ]
    }
   ],
   "source": [
    "board = [[0,0,0,0,0],[0,0,1,0,3],[0,2,5,0,1],[4,2,4,4,2],[3,5,1,3,1]]\n",
    "moves = [1,5,3,5,1,2,1,4]\n",
    "print(solution1(board, moves))\n",
    "board = [[0,0,0,0,0],[0,0,1,0,3],[0,2,5,0,1],[4,2,4,4,2],[3,5,1,3,1]]\n",
    "print(solution2(board, moves))"
   ]
  }
 ],
 "metadata": {
  "kernelspec": {
   "display_name": "Python 3.10.5 64-bit",
   "language": "python",
   "name": "python3"
  },
  "language_info": {
   "codemirror_mode": {
    "name": "ipython",
    "version": 3
   },
   "file_extension": ".py",
   "mimetype": "text/x-python",
   "name": "python",
   "nbconvert_exporter": "python",
   "pygments_lexer": "ipython3",
   "version": "3.10.5"
  },
  "orig_nbformat": 4,
  "vscode": {
   "interpreter": {
    "hash": "46f5caaf0ca3c9143f3b7a44f7cf6dbe83d7ed2cfc9d613b8974bb1d310f1c60"
   }
  }
 },
 "nbformat": 4,
 "nbformat_minor": 2
}
