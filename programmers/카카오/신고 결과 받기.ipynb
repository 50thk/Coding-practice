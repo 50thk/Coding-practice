{
 "cells": [
  {
   "cell_type": "markdown",
   "metadata": {},
   "source": [
    "![image](https://user-images.githubusercontent.com/88871309/186186155-7051b032-35c2-4538-aa9f-9f965716536f.png)\n"
   ]
  },
  {
   "cell_type": "markdown",
   "metadata": {},
   "source": [
    "![image](https://user-images.githubusercontent.com/88871309/186186301-3ebb48cc-8e0b-4bd0-b66d-22a2b3485f33.png)"
   ]
  },
  {
   "cell_type": "markdown",
   "metadata": {},
   "source": [
    "![image](https://user-images.githubusercontent.com/88871309/186186468-0201dd43-2214-4ad4-9496-f17c738b9df5.png)"
   ]
  },
  {
   "cell_type": "code",
   "execution_count": 1,
   "metadata": {},
   "outputs": [],
   "source": [
    "'''\n",
    "2022 카카오 블라인드 채용 : 신고 결과 받기\n",
    "'''\n",
    "def solution(id_list, report, k):\n",
    "    id_dict = {id:0 for id in id_list}\n",
    "    report_id = {id:[] for id in id_list}\n",
    "    set_report = set(report)\n",
    "    report = [i.split(\" \") for i in list(set_report)]\n",
    "    for i in report:\n",
    "        id_dict[i[1]] += 1\n",
    "        report_id[i[0]].append(i[1])\n",
    "    stop_id = [i[0] for i in sorted(id_dict.items(), key=lambda x:x[1], reverse=True) if i[1] >= k]\n",
    "    answer = []\n",
    "    for idx, i in enumerate(id_list):\n",
    "        report_n = 0\n",
    "        for id in stop_id:\n",
    "            if id in report_id[i]:\n",
    "                report_n += 1\n",
    "        answer.append(report_n)\n",
    "    return answer\n"
   ]
  },
  {
   "cell_type": "code",
   "execution_count": 2,
   "metadata": {},
   "outputs": [
    {
     "data": {
      "text/plain": [
       "[2, 1, 1, 0]"
      ]
     },
     "execution_count": 2,
     "metadata": {},
     "output_type": "execute_result"
    }
   ],
   "source": [
    "id_list = [\"muzi\", \"frodo\", \"apeach\", \"neo\"]\n",
    "report = [\"muzi frodo\",\"apeach frodo\",\"frodo neo\",\"muzi neo\",\"apeach muzi\"]\t\n",
    "k = 2\n",
    "solution(id_list, report, k)"
   ]
  }
 ],
 "metadata": {
  "kernelspec": {
   "display_name": "Python 3.10.5 64-bit",
   "language": "python",
   "name": "python3"
  },
  "language_info": {
   "codemirror_mode": {
    "name": "ipython",
    "version": 3
   },
   "file_extension": ".py",
   "mimetype": "text/x-python",
   "name": "python",
   "nbconvert_exporter": "python",
   "pygments_lexer": "ipython3",
   "version": "3.10.5"
  },
  "orig_nbformat": 4,
  "vscode": {
   "interpreter": {
    "hash": "46f5caaf0ca3c9143f3b7a44f7cf6dbe83d7ed2cfc9d613b8974bb1d310f1c60"
   }
  }
 },
 "nbformat": 4,
 "nbformat_minor": 2
}
