{
 "cells": [
  {
   "cell_type": "markdown",
   "metadata": {},
   "source": [
    "![image](https://user-images.githubusercontent.com/88871309/205543921-fe7063e8-ae0e-41a6-8866-49e750c36587.png)"
   ]
  },
  {
   "cell_type": "code",
   "execution_count": 1,
   "metadata": {},
   "outputs": [],
   "source": [
    "def rec(br):\n",
    "    if not br:\n",
    "        return \"\"\n",
    "    \n",
    "    # obc, cbc로 나누지 않고 c 하나로 for문에서 음수면 collect=False, 0이 되면 u,v 정의 해주는 것으로 해줘도 됨.\n",
    "    obc = 0\n",
    "    cbc = 0\n",
    "    collect = True\n",
    "    \n",
    "    for i in range(len(br)):\n",
    "        if br[i] == \"(\":\n",
    "            obc += 1\n",
    "        else:\n",
    "            cbc += 1\n",
    "        \n",
    "        if obc < cbc:\n",
    "            collect = False\n",
    "        \n",
    "        if obc == cbc:\n",
    "            u = br[:i+1]\n",
    "            v = br[i+1:]\n",
    "            break\n",
    "    \n",
    "    if not collect:\n",
    "        return \"(\"+rec(v)+\")\"+\"\".join([\")\" if i == \"(\" else \"(\" for i in u[1:-1]])\n",
    "    \n",
    "    else:\n",
    "        return u+rec(v)\n",
    "    \n",
    "def solution(p):\n",
    "    return rec(p)"
   ]
  },
  {
   "cell_type": "code",
   "execution_count": 2,
   "metadata": {},
   "outputs": [
    {
     "data": {
      "text/plain": [
       "'()(())()'"
      ]
     },
     "execution_count": 2,
     "metadata": {},
     "output_type": "execute_result"
    }
   ],
   "source": [
    "p = \"()))((()\"\n",
    "solution(p)"
   ]
  }
 ],
 "metadata": {
  "kernelspec": {
   "display_name": "Python 3.11.0 64-bit",
   "language": "python",
   "name": "python3"
  },
  "language_info": {
   "codemirror_mode": {
    "name": "ipython",
    "version": 3
   },
   "file_extension": ".py",
   "mimetype": "text/x-python",
   "name": "python",
   "nbconvert_exporter": "python",
   "pygments_lexer": "ipython3",
   "version": "3.11.0"
  },
  "orig_nbformat": 4,
  "vscode": {
   "interpreter": {
    "hash": "42e90af05850de75cce209366f6adb061830c4e13e8450f4b0441a396c4c87f2"
   }
  }
 },
 "nbformat": 4,
 "nbformat_minor": 2
}
