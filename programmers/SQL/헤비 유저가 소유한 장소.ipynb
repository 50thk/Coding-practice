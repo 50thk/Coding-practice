{
 "cells": [
  {
   "cell_type": "markdown",
   "metadata": {},
   "source": [
    "![image](https://user-images.githubusercontent.com/88871309/202445123-c6ced6ad-83db-4776-bea3-2a24a624bd3f.png)\n"
   ]
  },
  {
   "cell_type": "code",
   "execution_count": null,
   "metadata": {},
   "outputs": [],
   "source": [
    "SELECT P.* FROM PLACES AS P LEFT JOIN (SELECT HOST_ID, COUNT(HOST_ID) COUNT FROM PLACES GROUP BY HOST_ID) AS CT ON P.HOST_ID = CT.HOST_ID WHERE COUNT > 1 ORDER BY ID"
   ]
  }
 ],
 "metadata": {
  "language_info": {
   "name": "python"
  },
  "orig_nbformat": 4
 },
 "nbformat": 4,
 "nbformat_minor": 2
}
