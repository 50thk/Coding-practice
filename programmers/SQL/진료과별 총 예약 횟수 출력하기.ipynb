{
 "cells": [
  {
   "attachments": {},
   "cell_type": "markdown",
   "metadata": {},
   "source": [
    "![image](https://user-images.githubusercontent.com/88871309/206663328-34410610-1d45-4e9b-9c9e-c7e5a98af569.png)\n"
   ]
  },
  {
   "cell_type": "code",
   "execution_count": null,
   "metadata": {},
   "outputs": [],
   "source": [
    "# SELECT MCDP_CD as '진료과코드', COUNT(MCDP_CD) AS '5월예약건수' FROM APPOINTMENT WHERE MONTH(APNT_YMD) = 5 GROUP BY MCDP_CD ORDER BY 5월예약건수, 진료과코드"
   ]
  }
 ],
 "metadata": {
  "language_info": {
   "name": "python"
  },
  "orig_nbformat": 4
 },
 "nbformat": 4,
 "nbformat_minor": 2
}
